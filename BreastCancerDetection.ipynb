{
  "nbformat": 4,
  "nbformat_minor": 0,
  "metadata": {
    "colab": {
      "provenance": []
    },
    "kernelspec": {
      "name": "python3",
      "display_name": "Python 3"
    },
    "language_info": {
      "name": "python"
    }
  },
  "cells": [
    {
      "cell_type": "code",
      "execution_count": null,
      "metadata": {
        "id": "eTJgTtrJIR9M"
      },
      "outputs": [],
      "source": [
        "from sklearn.datasets import load_breast_cancer\n",
        "cancer = load_breast_cancer()\n",
        "X_cancer = cancer.data\n",
        "y_cancer = cancer.target\n",
        "X_train_cancer, X_test_cancer, y_train_cancer, y_test_cancer = train_test_split(X_cancer, y_cancer, test_size=0.3, random_state=42)\n",
        "cancer_model = SVC(kernel='linear', C=0.05, gamma='auto')\n",
        "cancer_model.fit(X_train_cancer, y_train_cancer)\n",
        "y_pred_cancer = cancer_model.predict(X_test_cancer)\n",
        "confusion_matrix(y_test_cancer, y_pred_cancer)\n"
      ]
    }
  ]
}